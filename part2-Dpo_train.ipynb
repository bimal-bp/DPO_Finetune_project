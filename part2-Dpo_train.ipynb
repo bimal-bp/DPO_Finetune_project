{
 "cells": [
  {
   "cell_type": "code",
   "execution_count": null,
   "metadata": {},
   "outputs": [],
   "source": [
    "# imporing lib..................\n",
    "import os \n",
    "from dataclasses import dataclass ,field \n",
    "from typing import dict , Optional \n",
    "import torch \n",
    "from datasets import Dataset , load_dataset \n",
    "from peft import AutoPeftModelForCausalLM,LoraConfig \n",
    "from transformers import AutoTokenizer ,HfArgumentParser ,TrainingArguments\n",
    "\n",
    "from trl import DPOTrainer "
   ]
  },
  {
   "cell_type": "code",
   "execution_count": null,
   "metadata": {},
   "outputs": [],
   "source": [
    "# DATSEt preocessing \n",
    "def dpo_data(train_or_val):\n",
    "    dataset = load_dataset(\n",
    "        \"Dahoas/full-hh-rlhf\",\n",
    "        split=\"train\",\n",
    "        use_auth_token=True\n",
    "    )\n",
    "    original_columns = dataset.column_names \n",
    "    \n",
    "\n",
    "    def return_prompt_and_responses(samples):\n",
    "        return{\n",
    "            \"prompt\":[prompt for prompt in samples[\"prompt\"]],\n",
    "            \"choosen\":samples[\"choosen\"]\n",
    "            \"rejected\":samples[\"rejected\"]\n",
    "        }\n",
    "    return dartaset.map(\n",
    "        return_prompt_and_responses,\n",
    "        batched=True,\n",
    "        remove_columsn=original_columns\n",
    "    )"
   ]
  }
 ],
 "metadata": {
  "language_info": {
   "name": "python"
  }
 },
 "nbformat": 4,
 "nbformat_minor": 2
}
