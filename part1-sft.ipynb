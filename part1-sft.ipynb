{
 "cells": [
  {
   "cell_type": "code",
   "execution_count": null,
   "metadata": {},
   "outputs": [],
   "source": [
    "# 1.intsalling libraies \n",
    "pip install accelerate datasets bitsandbyes transformers"
   ]
  },
  {
   "cell_type": "code",
   "execution_count": null,
   "metadata": {},
   "outputs": [],
   "source": [
    "# 2.import lib.....\n",
    "import os \n",
    "import torch \n",
    "from dataclasses import dataclass ,field \n",
    "from typing import Optional \n",
    "from datasets import load_dataset \n",
    "from peft import AutoPeftModelForCausalLM,LoraConfig \n",
    "from tqdm import tqdm \n",
    "from transformers import AutoModelForCausalLM,AutoTokenizer,BitsAndBytesConfig,HfArgumentParser\n",
    "from trl import SFFTrainer\n",
    "from trl.trainer import ConstantLengthDataset"
   ]
  },
  {
   "cell_type": "code",
   "execution_count": null,
   "metadata": {},
   "outputs": [],
   "source": [
    "# 3.loging to HF \n",
    "from huggingface_hub import notebook_login \n",
    "notebook_login()"
   ]
  }
 ],
 "metadata": {
  "language_info": {
   "name": "python"
  }
 },
 "nbformat": 4,
 "nbformat_minor": 2
}
