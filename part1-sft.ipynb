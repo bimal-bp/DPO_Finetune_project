{
 "cells": [
  {
   "cell_type": "code",
   "execution_count": null,
   "metadata": {},
   "outputs": [],
   "source": [
    "# 1.intsalling libraies \n",
    "pip install accelerate datasets bitsandbyes transformers"
   ]
  },
  {
   "cell_type": "code",
   "execution_count": null,
   "metadata": {},
   "outputs": [],
   "source": [
    "# 2.import lib.....\n",
    "import os \n",
    "import torch \n",
    "from dataclasses import dataclass ,field \n",
    "from typing import Optional \n",
    "from datasets import load_dataset \n",
    "from peft import AutoPeftModelForCausalLM,LoraConfig \n",
    "from tqdm import tqdm \n",
    "from transformers import AutoModelForCausalLM,AutoTokenizer,BitsAndBytesConfig,HfArgumentParser\n",
    "from trl import SFFTrainer\n",
    "from trl.trainer import ConstantLengthDataset"
   ]
  },
  {
   "cell_type": "code",
   "execution_count": null,
   "metadata": {},
   "outputs": [],
   "source": [
    "# 3.loging to HF \n",
    "from huggingface_hub import notebook_login \n",
    "notebook_login()"
   ]
  },
  {
   "cell_type": "code",
   "execution_count": null,
   "metadata": {},
   "outputs": [],
   "source": [
    "# 4. Processing \n",
    "def chars_token_ratio(dataset,tokenizer,nb_examples=400):\n",
    "    \"Estimate the average number of characters per token \"\n",
    "    total_characters,total_tokens=0,0 \n",
    "    for _,example in tqdm(zip(range(nb_examples),iter(dataset)),total=nb_examples):\n",
    "        text = prepare_sample_text(example)\n",
    "        total_characters += len(text)\n",
    "        if tokenizer.is_fast:\n",
    "            total_tokens += len(tokenizer(text).tokens())\n",
    "        else :\n",
    "            total_tokens += len(tokenizer.tokenize(text))\n",
    "    return total_characters / total_tokens\n",
    "\n",
    "\n",
    "def  print_trainable_parameters(model):\n",
    "    \"\"\" Print the number of trainable parameters \"\"\"\n",
    "    trainable_params = 0\n",
    "    all_param = 0\n",
    "    for _,param in model.named_parameters():\n",
    "        all_param += param.numel()\n",
    "\n",
    "    print(\n",
    "        f\"trainable params: {trainable_params} || all params: {all_param} || trainable%: {100 * trainable_params / all_param}\"\n",
    "    )\n",
    "\n",
    "\n",
    "def prepare_sample_text(example):\n",
    "    \"\"\"Prepare the text from a sample of the dataset.\"\"\"\n",
    "    text =f\"{example['prompt']}\\n {example['response']}\"\n",
    "    return text \n",
    "\n",
    "def create_datasets(tokenizer):\n",
    "    dataset =load_dataset(\n",
    "        \"Dahos/full-hh-rlhf\",\n",
    "        split=\"test\",\n",
    "        use_auth_token=True\n",
    "    )\n",
    "    dataset = dataset.train_test_split(test_size=0.005,seed=None)\n",
    "    train_data = dataset[\"train\"]\n",
    "    valid_data = dataset[\"test\"]\n",
    "    print(f\"Size of the train set: {len(train_data)}. Size of the validation set: {len(valid_data)}\")\n",
    "\n",
    "    chars_per_token = chars_token_ratio(train_data,tokenizer)\n",
    "    print(f\"The ratio is {chars_per_token:.2f}\")\n",
    "\n",
    "    train_dataset = ConstantLengthDataset(\n",
    "        tokenizer,\n",
    "        train_data,\n",
    "        formatting_func = prepare_sample_text,\n",
    "        infinite=True,\n",
    "        seq_length=256,\n",
    "        chars_per_token=chars_per_token,\n",
    "    )\n",
    "    valid_dataset = ConstantLengthDataset(\n",
    "        tokenizer,\n",
    "        valid_data,\n",
    "        formatting_func=prepare_sample_text,\n",
    "        infinite=True,\n",
    "        seq_length=256,\n",
    "        chars_per_token=chars_per_token,\n",
    "    )\n",
    "    return train_dataset,valid_dataset\n"
   ]
  }
 ],
 "metadata": {
  "language_info": {
   "name": "python"
  }
 },
 "nbformat": 4,
 "nbformat_minor": 2
}
